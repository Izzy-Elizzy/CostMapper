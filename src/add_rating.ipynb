{
 "cells": [
  {
   "cell_type": "code",
   "execution_count": 2,
   "metadata": {},
   "outputs": [],
   "source": [
    "import pandas as pd"
   ]
  },
  {
   "cell_type": "code",
   "execution_count": 3,
   "metadata": {},
   "outputs": [],
   "source": [
    "merged = pd.read_csv(\"merged-5-15.csv\")"
   ]
  },
  {
   "cell_type": "code",
   "execution_count": 4,
   "metadata": {},
   "outputs": [],
   "source": [
    "national_median_home_price = float(387600)\n",
    "national_median_rent = float(2113)"
   ]
  },
  {
   "cell_type": "code",
   "execution_count": 5,
   "metadata": {},
   "outputs": [],
   "source": [
    "merged['Median Rent'] = (merged[\"fmr_0\"] + merged['fmr_1']+ merged['fmr_2']+merged['fmr_3']+merged['fmr_4']) / 5"
   ]
  },
  {
   "cell_type": "code",
   "execution_count": 6,
   "metadata": {},
   "outputs": [],
   "source": [
    "merged[\"Housing Score\"] = 1 / (1 + (merged[\"Median Home Price Q4 2023\"] / pd.Series([national_median_home_price] * len(merged))))\n",
    "merged[\"Rent Score\"] = 1 / (1 + (merged['Median Rent'] / pd.Series([national_median_rent] * len(merged))))"
   ]
  },
  {
   "cell_type": "code",
   "execution_count": 7,
   "metadata": {},
   "outputs": [],
   "source": [
    "housing_weight, rent_weight = 0.65, 0.35"
   ]
  },
  {
   "cell_type": "code",
   "execution_count": 8,
   "metadata": {},
   "outputs": [],
   "source": [
    "merged['Livability Rating'] = ((housing_weight * merged['Housing Score']) + (rent_weight * merged['Rent Score'])  / (housing_weight + rent_weight))"
   ]
  }
 ],
 "metadata": {
  "kernelspec": {
   "display_name": "Python 3",
   "language": "python",
   "name": "python3"
  },
  "language_info": {
   "codemirror_mode": {
    "name": "ipython",
    "version": 3
   },
   "file_extension": ".py",
   "mimetype": "text/x-python",
   "name": "python",
   "nbconvert_exporter": "python",
   "pygments_lexer": "ipython3",
   "version": "3.12.3"
  }
 },
 "nbformat": 4,
 "nbformat_minor": 2
}
